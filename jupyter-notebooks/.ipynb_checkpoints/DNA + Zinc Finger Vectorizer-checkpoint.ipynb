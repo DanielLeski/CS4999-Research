{
 "cells": [
  {
   "cell_type": "code",
   "execution_count": null,
   "id": "330c3cbd",
   "metadata": {},
   "outputs": [],
   "source": [
    "import pandas as pd\n",
    "import numpy as np\n",
    "import matplotlib.pyplot as plt\n",
    "import csv\n",
    "from sklearn.feature_extraction.text import CountVectorizer\n",
    "from sklearn.metrics import accuracy_score, f1_score, precision_score, recall_score\n",
    "#Use featureHasher possible .. a good alternative from CountVectorizer, can potentially use less memory  \n",
    "from sklearn.feature_extraction import FeatureHasher\n",
    "from sklearn.ensemble import RandomForestClassifier"
   ]
  },
  {
   "cell_type": "code",
   "execution_count": null,
   "id": "418c883e",
   "metadata": {},
   "outputs": [],
   "source": [
    "new_data = pd.read_csv('../database-files/output.csv')"
   ]
  },
  {
   "cell_type": "code",
   "execution_count": null,
   "id": "3dfc59d6",
   "metadata": {},
   "outputs": [],
   "source": [
    "new_data"
   ]
  },
  {
   "cell_type": "code",
   "execution_count": null,
   "id": "cbd20c30",
   "metadata": {},
   "outputs": [],
   "source": [
    "positiveExamples = new_data.loc[(new_data['ex'] == \"ex+\") | (new_data['ex'] == \"+\")]\n",
    "negativeExamples = new_data.loc[(new_data['ex'] == \"ex-\") | (new_data['ex'] == \"-\")]"
   ]
  },
  {
   "cell_type": "code",
   "execution_count": null,
   "id": "6a76fe9e",
   "metadata": {
    "scrolled": true
   },
   "outputs": [],
   "source": [
    "print(positiveExamples)"
   ]
  },
  {
   "cell_type": "code",
   "execution_count": null,
   "id": "6fe237c5",
   "metadata": {},
   "outputs": [],
   "source": [
    "print(negativeExamples)"
   ]
  },
  {
   "cell_type": "code",
   "execution_count": null,
   "id": "95f44e57",
   "metadata": {},
   "outputs": [],
   "source": [
    "print(len(positiveExamples))\n",
    "print(len(negativeExamples))"
   ]
  },
  {
   "cell_type": "code",
   "execution_count": null,
   "id": "37259974",
   "metadata": {},
   "outputs": [],
   "source": [
    "combined_data = pd.concat([positiveExamples, negativeExamples])"
   ]
  },
  {
   "cell_type": "code",
   "execution_count": null,
   "id": "8cfb8d62",
   "metadata": {},
   "outputs": [],
   "source": [
    "pos_combined_dna_with_zinc = []\n",
    "pos_dna = []\n",
    "for index, row in positiveExamples.iterrows():\n",
    "    pos_seq_dna_with_zinc = (row['Dna'] + row['f1'] + row['f2'] + row['f3'])\n",
    "    pos_combined_dna_with_zinc.append(pos_seq_dna_with_zinc)\n",
    "    pos_dna_seq = row['Dna']\n",
    "    pos_dna.append(pos_dna_seq)\n",
    "\n",
    "neg_combined_dna_with_zinc = []\n",
    "neg_dna = []\n",
    "for index, row in negativeExamples.iterrows():\n",
    "    neg_seq_dna_with_zinc = (row['Dna'] + row['f1'] + row['f2'] + row['f3'])\n",
    "    neg_combined_dna_with_zinc.append(neg_seq_dna_with_zinc)\n",
    "    neg_dna_seq = row['Dna']\n",
    "    neg_dna.append(neg_dna_seq)"
   ]
  },
  {
   "cell_type": "code",
   "execution_count": null,
   "id": "385da16f",
   "metadata": {
    "scrolled": true
   },
   "outputs": [],
   "source": [
    "pos_dna"
   ]
  },
  {
   "cell_type": "code",
   "execution_count": null,
   "id": "9176f1aa",
   "metadata": {},
   "outputs": [],
   "source": [
    "neg_dna"
   ]
  },
  {
   "cell_type": "code",
   "execution_count": null,
   "id": "90235534",
   "metadata": {},
   "outputs": [],
   "source": [
    "def kmers(sequence, kmer_length=4):\n",
    "    return[sequence[x:x+kmer_length].lower() for x in range(len(sequence) - kmer_length + 1)]"
   ]
  },
  {
   "cell_type": "code",
   "execution_count": null,
   "id": "fdcb7d98",
   "metadata": {},
   "outputs": [],
   "source": [
    "pos_df = pd.DataFrame(data=pos_combined_dna_with_zinc, columns=['Dna with Zinc'])\n",
    "neg_df = pd.DataFrame(data=neg_combined_dna_with_zinc, columns=['Dna with Zinc'])"
   ]
  },
  {
   "cell_type": "code",
   "execution_count": null,
   "id": "b7b73483",
   "metadata": {},
   "outputs": [],
   "source": [
    "pos_df['kmers_with_zinc'] = pos_df.apply(lambda x: kmers(x['Dna with Zinc']), axis = 1)\n",
    "#pos_df['Class'] = 0"
   ]
  },
  {
   "cell_type": "code",
   "execution_count": null,
   "id": "57a333e8",
   "metadata": {},
   "outputs": [],
   "source": [
    "neg_df['kmers_with_zinc'] = neg_df.apply(lambda x: kmers(x['Dna with Zinc']), axis = 1)\n",
    "#neg_df['Class'] = 1"
   ]
  },
  {
   "cell_type": "code",
   "execution_count": null,
   "id": "cdfd1e35",
   "metadata": {},
   "outputs": [],
   "source": [
    "pos_df['Dna'] = pos_dna"
   ]
  },
  {
   "cell_type": "code",
   "execution_count": null,
   "id": "2265d203",
   "metadata": {},
   "outputs": [],
   "source": [
    "neg_df['Dna'] = neg_dna"
   ]
  },
  {
   "cell_type": "code",
   "execution_count": null,
   "id": "3412211f",
   "metadata": {},
   "outputs": [],
   "source": [
    "dna_combined = pd.concat([pos_df, neg_df])"
   ]
  },
  {
   "cell_type": "code",
   "execution_count": null,
   "id": "08c02f8d",
   "metadata": {},
   "outputs": [],
   "source": [
    "pos_and_neg = pd.concat([pos_df, neg_df])\n",
    "pos_and_neg"
   ]
  },
  {
   "cell_type": "code",
   "execution_count": null,
   "id": "0580a6b3",
   "metadata": {},
   "outputs": [],
   "source": [
    "pos_df['kmers_with_dna'] = pos_df.apply(lambda x: kmers(x['Dna']), axis = 1)\n",
    "neg_df['kmers_with_dna'] = neg_df.apply(lambda x: kmers(x['Dna']), axis = 1)\n",
    "pos_and_neg = pd.concat([pos_df, neg_df])\n",
    "pos_and_neg"
   ]
  },
  {
   "cell_type": "code",
   "execution_count": null,
   "id": "356cdd91",
   "metadata": {},
   "outputs": [],
   "source": [
    "kmer_with_zinc = list(pos_and_neg['kmers_with_zinc'])\n",
    "for i in range(len(kmer_with_zinc)):\n",
    "    kmer_with_zinc[i] = ' '.join(kmer_with_zinc[i])\n",
    "#class type which would be a positive 0\n",
    "#convert these using CountVectorizer\n",
    "y_kmer_with_zinc = pos_and_neg.iloc[:,0].values\n",
    "print(y_kmer_with_zinc)"
   ]
  },
  {
   "cell_type": "code",
   "execution_count": null,
   "id": "b0a71e04",
   "metadata": {},
   "outputs": [],
   "source": [
    "kmer_without_zinc = list(pos_and_neg['kmers_with_dna'])\n",
    "for i in range(len(kmer_without_zinc)):\n",
    "    kmer_without_zinc[i] = ' '.join(kmer_without_zinc[i])\n",
    "#convert these using CountVectorizer    \n",
    "y_kmer_without_zinc = pos_and_neg.iloc[:,2].values"
   ]
  },
  {
   "cell_type": "code",
   "execution_count": null,
   "id": "2960a131",
   "metadata": {},
   "outputs": [],
   "source": [
    "countVectorizer = CountVectorizer(ngram_range=(4,4))\n",
    "kmer_zinc = countVectorizer.fit_transform(kmer_with_zinc)\n",
    "kmer_without_zinc = countVectorizer.transform(kmer_without_zinc)"
   ]
  },
  {
   "cell_type": "code",
   "execution_count": null,
   "id": "9754e880",
   "metadata": {},
   "outputs": [],
   "source": [
    "countVectorizer.vocabulary_"
   ]
  },
  {
   "cell_type": "code",
   "execution_count": null,
   "id": "2bbd40ab",
   "metadata": {},
   "outputs": [],
   "source": [
    "model = RandomForestClassifier()\n",
    "model.fit(kmer_zinc, y_kmer_with_zinc)\n",
    "y_pred = model.predict(kmer_without_zinc)"
   ]
  },
  {
   "cell_type": "code",
   "execution_count": null,
   "id": "a750a3e8",
   "metadata": {},
   "outputs": [],
   "source": [
    "def metrics(y_test, y_pred):\n",
    "    accuracy = accuracy_score(y_test, y_pred)\n",
    "    precision = precision_score(y_test, y_pred)\n",
    "    recall = recall_score(y_test, y_pred)\n",
    "    print(\"accuracy = %.3f \\nprecision = %.3f \\nrecall = %.3f\" % (accuracy, precision, recall))\n",
    "    return accuracy, precision, recall"
   ]
  },
  {
   "cell_type": "code",
   "execution_count": null,
   "id": "3f7e280f",
   "metadata": {},
   "outputs": [],
   "source": [
    "accuracy, precision, recall = metrics(kmer_without_zinc, y_pred)"
   ]
  },
  {
   "cell_type": "code",
   "execution_count": null,
   "id": "d10b9d9b",
   "metadata": {},
   "outputs": [],
   "source": []
  }
 ],
 "metadata": {
  "kernelspec": {
   "display_name": "Python 3",
   "language": "python",
   "name": "python3"
  },
  "language_info": {
   "codemirror_mode": {
    "name": "ipython",
    "version": 3
   },
   "file_extension": ".py",
   "mimetype": "text/x-python",
   "name": "python",
   "nbconvert_exporter": "python",
   "pygments_lexer": "ipython3",
   "version": "3.9.10"
  }
 },
 "nbformat": 4,
 "nbformat_minor": 5
}
