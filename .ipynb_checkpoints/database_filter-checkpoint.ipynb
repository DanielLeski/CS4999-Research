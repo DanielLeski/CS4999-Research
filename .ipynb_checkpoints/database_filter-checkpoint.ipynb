{
 "cells": [
  {
   "cell_type": "code",
   "execution_count": 1,
   "id": "aeb25041",
   "metadata": {},
   "outputs": [],
   "source": [
    "import pandas as pd\n",
    "import numpy as np\n",
    "import matplotlib.pyplot as plt\n",
    "import csv\n"
   ]
  },
  {
   "cell_type": "markdown",
   "id": "c1ee077c",
   "metadata": {},
   "source": [
    "### \"Data Cleaning\"\n",
    "\n",
    "Source - the data origin\n",
    "\n",
    "dna - DNA Sequence\n",
    "\n",
    "zf - number of zinc fingers in protein\n",
    "\n",
    "f1-fn - sequences of corresponding zinc finger regions\n"
   ]
  },
  {
   "cell_type": "code",
   "execution_count": 2,
   "id": "e54e712b",
   "metadata": {},
   "outputs": [],
   "source": [
    "with open('database.txt', 'r') as file:\n",
    "    data = file.read()"
   ]
  },
  {
   "cell_type": "code",
   "execution_count": 3,
   "id": "a6288dc4",
   "metadata": {},
   "outputs": [],
   "source": [
    "data = data.replace(\"source\", \"\")\n",
    "data = data.replace(\"dna\", \"\")\n",
    "data = data.replace(\"zf\", \"\")\n",
    "data = data.replace('f1', \"\")\n",
    "data = data.replace(\"f2\", \"\")\n",
    "data = data.replace(\"f3\", \"\")\n",
    "data = data.replace(\"=\", \"\")"
   ]
  },
  {
   "cell_type": "code",
   "execution_count": 4,
   "id": "9288bbeb",
   "metadata": {},
   "outputs": [],
   "source": [
    "z = data.split(\"\\n\")"
   ]
  },
  {
   "cell_type": "code",
   "execution_count": 8,
   "id": "e0957a4e",
   "metadata": {},
   "outputs": [],
   "source": [
    "textfile = open(\"database2.txt\", \"w\")\n",
    "for e in z:\n",
    "    textfile.write(e + \"\\n\")\n",
    "textfile.close()"
   ]
  },
  {
   "cell_type": "code",
   "execution_count": 9,
   "id": "d182092e",
   "metadata": {},
   "outputs": [],
   "source": [
    "df = pd.read_fwf(\"database2.txt\")"
   ]
  },
  {
   "cell_type": "code",
   "execution_count": 12,
   "id": "8fb3995e",
   "metadata": {},
   "outputs": [],
   "source": [
    "df.to_csv(\"output.csv\", header=['Source', 'Dna', 'zf', 'f1', 'f2', 'f3', 'ex'])"
   ]
  },
  {
   "cell_type": "markdown",
   "id": "04500af8",
   "metadata": {},
   "source": [
    "## Hopefully simulating what they had in the paper\n",
    "\n",
    "Sources:\n",
    "\n",
    "http://www.cryst.bbk.ac.uk/education/AminoAcid/the_twenty.html\n",
    "\n",
    "For Contacts:\n",
    "\n",
    "01 - between amino acids a6 and nucleotide b1\n",
    "\n",
    "\n",
    "02 - between amino acids a3 and nucleotide b2\n",
    "\n",
    "\n",
    "03 - between amino acids a-1 and nucleotide b3\n",
    "\n",
    "\n",
    "04 - between amino acids a2 and nucleotide b4\n",
    "\n"
   ]
  },
  {
   "cell_type": "markdown",
   "id": "dbabdd81",
   "metadata": {},
   "source": [
    "So this makes a canonical zinc finger binding model, to map each Zinc finger-DNA contact to a feature number. The contact positions are numbered from the start of the alpha-helix. \n",
    "\n",
    "This model is used to represent each protein-DNA complex "
   ]
  },
  {
   "cell_type": "code",
   "execution_count": 1,
   "id": "ccc51cae",
   "metadata": {},
   "outputs": [],
   "source": [
    "amino_acids = ['A', 'R', 'N', 'D', 'C', 'Q', 'E', 'G', 'H', 'I', 'L', 'K', 'M', 'F', 'P', 'S', 'T', 'W', 'Y', 'V']\n",
    "base = ['a', 'c', 'g', 't']\n",
    "contacts = ['01', '02', '03', '04']"
   ]
  },
  {
   "cell_type": "code",
   "execution_count": 3,
   "id": "280a6ba2",
   "metadata": {},
   "outputs": [],
   "source": [
    "s = []\n",
    "for i in contacts:\n",
    "    for j in amino_acids:\n",
    "        for k in base:\n",
    "            pair = i + j + k\n",
    "            s.append(pair)"
   ]
  },
  {
   "cell_type": "code",
   "execution_count": 8,
   "id": "a1e2bb4a",
   "metadata": {},
   "outputs": [
    {
     "data": {
      "text/plain": [
       "320"
      ]
     },
     "execution_count": 8,
     "metadata": {},
     "output_type": "execute_result"
    }
   ],
   "source": [
    "len(s)\n"
   ]
  },
  {
   "cell_type": "code",
   "execution_count": null,
   "id": "ea7b8ac2",
   "metadata": {},
   "outputs": [],
   "source": []
  }
 ],
 "metadata": {
  "kernelspec": {
   "display_name": "Python 3",
   "language": "python",
   "name": "python3"
  },
  "language_info": {
   "codemirror_mode": {
    "name": "ipython",
    "version": 3
   },
   "file_extension": ".py",
   "mimetype": "text/x-python",
   "name": "python",
   "nbconvert_exporter": "python",
   "pygments_lexer": "ipython3",
   "version": "3.9.10"
  }
 },
 "nbformat": 4,
 "nbformat_minor": 5
}
