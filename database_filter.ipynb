{
 "cells": [
  {
   "cell_type": "code",
   "execution_count": 1,
   "id": "aeb25041",
   "metadata": {},
   "outputs": [],
   "source": [
    "import pandas as pd\n",
    "import numpy as np\n",
    "import matplotlib.pyplot as plt\n",
    "import csv\n",
    "from sklearn.pipeline import make_pipeline\n",
    "from sklearn.preprocessing import StandardScaler\n",
    "from sklearn import svm"
   ]
  },
  {
   "cell_type": "markdown",
   "id": "c1ee077c",
   "metadata": {},
   "source": [
    "### \"Data Cleaning\"\n",
    "\n",
    "Source - the data origin\n",
    "\n",
    "dna - DNA Sequence\n",
    "\n",
    "zf - number of zinc fingers in protein\n",
    "\n",
    "f1-fn - sequences of corresponding zinc finger regions"
   ]
  },
  {
   "cell_type": "code",
   "execution_count": 2,
   "id": "e54e712b",
   "metadata": {},
   "outputs": [],
   "source": [
    "with open('database.txt', 'r') as file:\n",
    "    data = file.read()"
   ]
  },
  {
   "cell_type": "code",
   "execution_count": 3,
   "id": "a6288dc4",
   "metadata": {},
   "outputs": [],
   "source": [
    "data = data.replace(\"source\", \"\")\n",
    "data = data.replace(\"dna\", \"\")\n",
    "data = data.replace(\"zf\", \"\")\n",
    "data = data.replace('f1', \"\")\n",
    "data = data.replace(\"f2\", \"\")\n",
    "data = data.replace(\"f3\", \"\")\n",
    "data = data.replace(\"=\", \"\")"
   ]
  },
  {
   "cell_type": "code",
   "execution_count": 4,
   "id": "9288bbeb",
   "metadata": {},
   "outputs": [],
   "source": [
    "z = data.split(\"\\n\")"
   ]
  },
  {
   "cell_type": "code",
   "execution_count": 5,
   "id": "e0957a4e",
   "metadata": {},
   "outputs": [],
   "source": [
    "textfile = open(\"database2.txt\", \"w\")\n",
    "for e in z:\n",
    "    textfile.write(e + \"\\n\")\n",
    "textfile.close()"
   ]
  },
  {
   "cell_type": "code",
   "execution_count": 6,
   "id": "d182092e",
   "metadata": {},
   "outputs": [],
   "source": [
    "df = pd.read_fwf(\"database2.txt\")"
   ]
  },
  {
   "cell_type": "code",
   "execution_count": 7,
   "id": "8fb3995e",
   "metadata": {},
   "outputs": [],
   "source": [
    "df.to_csv(\"output.csv\", header=['Source', 'Dna', 'zf', 'f1', 'f2', 'f3', 'ex'])"
   ]
  },
  {
   "cell_type": "markdown",
   "id": "04500af8",
   "metadata": {},
   "source": [
    "## Hopefully simulating what they had in the paper\n",
    "\n",
    "Sources:\n",
    "\n",
    "http://www.cryst.bbk.ac.uk/education/AminoAcid/the_twenty.html\n",
    "\n",
    "For Contacts:\n",
    "\n",
    "01 - between amino acids a6 and nucleotide b1\n",
    "\n",
    "\n",
    "02 - between amino acids a3 and nucleotide b2\n",
    "\n",
    "\n",
    "03 - between amino acids a-1 and nucleotide b3\n",
    "\n",
    "\n",
    "04 - between amino acids a2 and nucleotide b4\n",
    "\n"
   ]
  },
  {
   "cell_type": "markdown",
   "id": "dbabdd81",
   "metadata": {},
   "source": [
    "So this makes a canonical zinc finger binding model, to map each Zinc finger-DNA contact to a feature number. The contact positions are numbered from the start of the alpha-helix. \n",
    "\n",
    "This model is used to represent each protein-DNA complex "
   ]
  },
  {
   "cell_type": "code",
   "execution_count": 8,
   "id": "ccc51cae",
   "metadata": {},
   "outputs": [],
   "source": [
    "amino_acids = ['A', 'R', 'N', 'D', 'C', 'Q', 'E', 'G', 'H', 'I', 'L', 'K', 'M', 'F', 'P', 'S', 'T', 'W', 'Y', 'V']\n",
    "base = ['a', 'c', 'g', 't']\n",
    "contacts = ['01', '02', '03', '04']"
   ]
  },
  {
   "cell_type": "code",
   "execution_count": 9,
   "id": "280a6ba2",
   "metadata": {},
   "outputs": [],
   "source": [
    "s = []\n",
    "for i in contacts:\n",
    "    for j in amino_acids:\n",
    "        for k in base:\n",
    "            pair = i + j + k\n",
    "            s.append(pair)"
   ]
  },
  {
   "cell_type": "code",
   "execution_count": 10,
   "id": "a1e2bb4a",
   "metadata": {},
   "outputs": [
    {
     "data": {
      "text/plain": [
       "320"
      ]
     },
     "execution_count": 10,
     "metadata": {},
     "output_type": "execute_result"
    }
   ],
   "source": [
    "len(s)"
   ]
  },
  {
   "cell_type": "markdown",
   "id": "e2e46d48",
   "metadata": {},
   "source": [
    "Reading in the csv for the newly created database file"
   ]
  },
  {
   "cell_type": "code",
   "execution_count": 11,
   "id": "88ed3f74",
   "metadata": {
    "scrolled": true
   },
   "outputs": [
    {
     "data": {
      "text/html": [
       "<div>\n",
       "<style scoped>\n",
       "    .dataframe tbody tr th:only-of-type {\n",
       "        vertical-align: middle;\n",
       "    }\n",
       "\n",
       "    .dataframe tbody tr th {\n",
       "        vertical-align: top;\n",
       "    }\n",
       "\n",
       "    .dataframe thead th {\n",
       "        text-align: right;\n",
       "    }\n",
       "</style>\n",
       "<table border=\"1\" class=\"dataframe\">\n",
       "  <thead>\n",
       "    <tr style=\"text-align: right;\">\n",
       "      <th></th>\n",
       "      <th>Unnamed: 0</th>\n",
       "      <th>Source</th>\n",
       "      <th>Dna</th>\n",
       "      <th>zf</th>\n",
       "      <th>f1</th>\n",
       "      <th>f2</th>\n",
       "      <th>f3</th>\n",
       "      <th>ex</th>\n",
       "    </tr>\n",
       "  </thead>\n",
       "  <tbody>\n",
       "    <tr>\n",
       "      <th>0</th>\n",
       "      <td>0</td>\n",
       "      <td>DBSFB01</td>\n",
       "      <td>ctcgcgGAAgcggcc</td>\n",
       "      <td>3</td>\n",
       "      <td>KSADLKRHIRI</td>\n",
       "      <td>RSDHLTTHIRT</td>\n",
       "      <td>RSDERKRHTKI</td>\n",
       "      <td>ex-</td>\n",
       "    </tr>\n",
       "    <tr>\n",
       "      <th>1</th>\n",
       "      <td>1</td>\n",
       "      <td>DBSFB01</td>\n",
       "      <td>ctcgcgGCGgcggcc</td>\n",
       "      <td>3</td>\n",
       "      <td>KSADLKRHIRI</td>\n",
       "      <td>RSDHLTTHIRT</td>\n",
       "      <td>RSDERKRHTKI</td>\n",
       "      <td>ex-</td>\n",
       "    </tr>\n",
       "    <tr>\n",
       "      <th>2</th>\n",
       "      <td>2</td>\n",
       "      <td>DBSFB01</td>\n",
       "      <td>ctcgcgGTTgcggcc</td>\n",
       "      <td>3</td>\n",
       "      <td>KSADLKRHIRI</td>\n",
       "      <td>RSDHLTTHIRT</td>\n",
       "      <td>RSDERKRHTKI</td>\n",
       "      <td>ex-</td>\n",
       "    </tr>\n",
       "    <tr>\n",
       "      <th>3</th>\n",
       "      <td>3</td>\n",
       "      <td>DBSFB01</td>\n",
       "      <td>ctcgcgGGGgcggcc</td>\n",
       "      <td>3</td>\n",
       "      <td>KSADLKRHIRI</td>\n",
       "      <td>RSDHLTTHIRT</td>\n",
       "      <td>RSDERKRHTKI</td>\n",
       "      <td>ex&gt; 2ctcgcgGACgcggcc</td>\n",
       "    </tr>\n",
       "    <tr>\n",
       "      <th>4</th>\n",
       "      <td>4</td>\n",
       "      <td>DBSFB01</td>\n",
       "      <td>ctcgcgGGGgcggcc</td>\n",
       "      <td>3</td>\n",
       "      <td>KSADLKRHIRI</td>\n",
       "      <td>RSDHLTTHIRT</td>\n",
       "      <td>RSDERKRHTKI</td>\n",
       "      <td>ex&gt; 2ctcgcgGATgcggcc</td>\n",
       "    </tr>\n",
       "    <tr>\n",
       "      <th>...</th>\n",
       "      <td>...</td>\n",
       "      <td>...</td>\n",
       "      <td>...</td>\n",
       "      <td>...</td>\n",
       "      <td>...</td>\n",
       "      <td>...</td>\n",
       "      <td>...</td>\n",
       "      <td>...</td>\n",
       "    </tr>\n",
       "    <tr>\n",
       "      <th>4077</th>\n",
       "      <td>4077</td>\n",
       "      <td>WYB95 c</td>\n",
       "      <td>tgcgTGGgcgccc 3</td>\n",
       "      <td>R</td>\n",
       "      <td>DELTRHIRI R</td>\n",
       "      <td>GNYTTHIRT R</td>\n",
       "      <td>DERKRHTKI e</td>\n",
       "      <td>Kd Kd20.0</td>\n",
       "    </tr>\n",
       "    <tr>\n",
       "      <th>4078</th>\n",
       "      <td>4078</td>\n",
       "      <td>WYB95 c</td>\n",
       "      <td>tGCGtgggcgccc 3</td>\n",
       "      <td>R</td>\n",
       "      <td>DELTRHIRI R</td>\n",
       "      <td>DHLTTHIRT R</td>\n",
       "      <td>DERKRHTKI e</td>\n",
       "      <td>Kd Kd6.5</td>\n",
       "    </tr>\n",
       "    <tr>\n",
       "      <th>4079</th>\n",
       "      <td>4079</td>\n",
       "      <td>WYB95 c</td>\n",
       "      <td>tCTGtgggcgccc 3</td>\n",
       "      <td>R</td>\n",
       "      <td>DELTRHIRI R</td>\n",
       "      <td>DHLTTHIRT R</td>\n",
       "      <td>DERKRHTKI e</td>\n",
       "      <td>Kd Kd101.0</td>\n",
       "    </tr>\n",
       "    <tr>\n",
       "      <th>4080</th>\n",
       "      <td>4080</td>\n",
       "      <td>WYB95 c</td>\n",
       "      <td>tGCGtgggcgccc 3</td>\n",
       "      <td>R</td>\n",
       "      <td>DELTRHIRI R</td>\n",
       "      <td>DHLTTHIRT S</td>\n",
       "      <td>GQWWRHTKI e</td>\n",
       "      <td>Kd Kd13.1</td>\n",
       "    </tr>\n",
       "    <tr>\n",
       "      <th>4081</th>\n",
       "      <td>4081</td>\n",
       "      <td>WYB95 c</td>\n",
       "      <td>tCTGtgggcgccc 3</td>\n",
       "      <td>R</td>\n",
       "      <td>DELTRHIRI R</td>\n",
       "      <td>DHLTTHIRT S</td>\n",
       "      <td>GQWWRHTKI e</td>\n",
       "      <td>Kd Kd500.0</td>\n",
       "    </tr>\n",
       "  </tbody>\n",
       "</table>\n",
       "<p>4082 rows × 8 columns</p>\n",
       "</div>"
      ],
      "text/plain": [
       "      Unnamed: 0   Source              Dna zf           f1           f2  \\\n",
       "0              0  DBSFB01  ctcgcgGAAgcggcc  3  KSADLKRHIRI  RSDHLTTHIRT   \n",
       "1              1  DBSFB01  ctcgcgGCGgcggcc  3  KSADLKRHIRI  RSDHLTTHIRT   \n",
       "2              2  DBSFB01  ctcgcgGTTgcggcc  3  KSADLKRHIRI  RSDHLTTHIRT   \n",
       "3              3  DBSFB01  ctcgcgGGGgcggcc  3  KSADLKRHIRI  RSDHLTTHIRT   \n",
       "4              4  DBSFB01  ctcgcgGGGgcggcc  3  KSADLKRHIRI  RSDHLTTHIRT   \n",
       "...          ...      ...              ... ..          ...          ...   \n",
       "4077        4077  WYB95 c  tgcgTGGgcgccc 3  R  DELTRHIRI R  GNYTTHIRT R   \n",
       "4078        4078  WYB95 c  tGCGtgggcgccc 3  R  DELTRHIRI R  DHLTTHIRT R   \n",
       "4079        4079  WYB95 c  tCTGtgggcgccc 3  R  DELTRHIRI R  DHLTTHIRT R   \n",
       "4080        4080  WYB95 c  tGCGtgggcgccc 3  R  DELTRHIRI R  DHLTTHIRT S   \n",
       "4081        4081  WYB95 c  tCTGtgggcgccc 3  R  DELTRHIRI R  DHLTTHIRT S   \n",
       "\n",
       "               f3                    ex  \n",
       "0     RSDERKRHTKI                   ex-  \n",
       "1     RSDERKRHTKI                   ex-  \n",
       "2     RSDERKRHTKI                   ex-  \n",
       "3     RSDERKRHTKI  ex> 2ctcgcgGACgcggcc  \n",
       "4     RSDERKRHTKI  ex> 2ctcgcgGATgcggcc  \n",
       "...           ...                   ...  \n",
       "4077  DERKRHTKI e             Kd Kd20.0  \n",
       "4078  DERKRHTKI e              Kd Kd6.5  \n",
       "4079  DERKRHTKI e            Kd Kd101.0  \n",
       "4080  GQWWRHTKI e             Kd Kd13.1  \n",
       "4081  GQWWRHTKI e            Kd Kd500.0  \n",
       "\n",
       "[4082 rows x 8 columns]"
      ]
     },
     "execution_count": 11,
     "metadata": {},
     "output_type": "execute_result"
    }
   ],
   "source": [
    "new_data = pd.read_csv('output.csv')\n",
    "new_data"
   ]
  },
  {
   "cell_type": "code",
   "execution_count": 12,
   "id": "b9e7ffa0",
   "metadata": {},
   "outputs": [],
   "source": [
    "positiveExamples = new_data.loc[(new_data['ex'] == \"ex+\") | (new_data['ex'] == \"+\")]\n",
    "negativeExamples = new_data.loc[(new_data['ex'] == \"ex-\") | (new_data['ex'] == \"-\")]\n",
    "comparativeExamples = new_data.loc[new_data['ex'] == \"ex>\"]"
   ]
  },
  {
   "cell_type": "code",
   "execution_count": 13,
   "id": "55e24d14",
   "metadata": {},
   "outputs": [
    {
     "name": "stdout",
     "output_type": "stream",
     "text": [
      "98\n",
      "689\n"
     ]
    }
   ],
   "source": [
    "print(len(positiveExamples))\n",
    "print(len(negativeExamples))"
   ]
  },
  {
   "cell_type": "markdown",
   "id": "cb5ef4e1",
   "metadata": {},
   "source": [
    "### Experiments"
   ]
  },
  {
   "cell_type": "code",
   "execution_count": 14,
   "id": "8bd8b972",
   "metadata": {},
   "outputs": [],
   "source": [
    "from sklearn.preprocessing import OneHotEncoder\n",
    "from sklearn.ensemble import RandomForestClassifier \n",
    "from sklearn.preprocessing import OneHotEncoder\n",
    "from sklearn.model_selection import train_test_split\n",
    "from sklearn.preprocessing import LabelEncoder"
   ]
  },
  {
   "cell_type": "markdown",
   "id": "3d8001dd",
   "metadata": {},
   "source": [
    "#### Experimental Setup"
   ]
  },
  {
   "cell_type": "code",
   "execution_count": 15,
   "id": "6041cc21",
   "metadata": {},
   "outputs": [],
   "source": [
    "#creating the 80 categories\n",
    "categories = []\n",
    "for i in amino_acids:\n",
    "    for j in base:\n",
    "        pair = i + j\n",
    "        categories.append(pair)"
   ]
  },
  {
   "cell_type": "code",
   "execution_count": 16,
   "id": "7bb5124e",
   "metadata": {},
   "outputs": [
    {
     "data": {
      "text/plain": [
       "80"
      ]
     },
     "execution_count": 16,
     "metadata": {},
     "output_type": "execute_result"
    }
   ],
   "source": [
    "len(categories)"
   ]
  },
  {
   "cell_type": "code",
   "execution_count": 17,
   "id": "f378ac67",
   "metadata": {},
   "outputs": [
    {
     "data": {
      "text/html": [
       "<div>\n",
       "<style scoped>\n",
       "    .dataframe tbody tr th:only-of-type {\n",
       "        vertical-align: middle;\n",
       "    }\n",
       "\n",
       "    .dataframe tbody tr th {\n",
       "        vertical-align: top;\n",
       "    }\n",
       "\n",
       "    .dataframe thead th {\n",
       "        text-align: right;\n",
       "    }\n",
       "</style>\n",
       "<table border=\"1\" class=\"dataframe\">\n",
       "  <thead>\n",
       "    <tr style=\"text-align: right;\">\n",
       "      <th></th>\n",
       "      <th>Aa</th>\n",
       "      <th>Ac</th>\n",
       "      <th>Ag</th>\n",
       "      <th>At</th>\n",
       "      <th>Ca</th>\n",
       "      <th>Cc</th>\n",
       "      <th>Cg</th>\n",
       "      <th>Ct</th>\n",
       "      <th>Da</th>\n",
       "      <th>Dc</th>\n",
       "      <th>...</th>\n",
       "      <th>Vt</th>\n",
       "      <th>Wa</th>\n",
       "      <th>Wc</th>\n",
       "      <th>Wg</th>\n",
       "      <th>Wt</th>\n",
       "      <th>Ya</th>\n",
       "      <th>Yc</th>\n",
       "      <th>Yg</th>\n",
       "      <th>Yt</th>\n",
       "      <th>categories</th>\n",
       "    </tr>\n",
       "  </thead>\n",
       "  <tbody>\n",
       "    <tr>\n",
       "      <th>0</th>\n",
       "      <td>1</td>\n",
       "      <td>0</td>\n",
       "      <td>0</td>\n",
       "      <td>0</td>\n",
       "      <td>0</td>\n",
       "      <td>0</td>\n",
       "      <td>0</td>\n",
       "      <td>0</td>\n",
       "      <td>0</td>\n",
       "      <td>0</td>\n",
       "      <td>...</td>\n",
       "      <td>0</td>\n",
       "      <td>0</td>\n",
       "      <td>0</td>\n",
       "      <td>0</td>\n",
       "      <td>0</td>\n",
       "      <td>0</td>\n",
       "      <td>0</td>\n",
       "      <td>0</td>\n",
       "      <td>0</td>\n",
       "      <td>Aa</td>\n",
       "    </tr>\n",
       "    <tr>\n",
       "      <th>1</th>\n",
       "      <td>0</td>\n",
       "      <td>1</td>\n",
       "      <td>0</td>\n",
       "      <td>0</td>\n",
       "      <td>0</td>\n",
       "      <td>0</td>\n",
       "      <td>0</td>\n",
       "      <td>0</td>\n",
       "      <td>0</td>\n",
       "      <td>0</td>\n",
       "      <td>...</td>\n",
       "      <td>0</td>\n",
       "      <td>0</td>\n",
       "      <td>0</td>\n",
       "      <td>0</td>\n",
       "      <td>0</td>\n",
       "      <td>0</td>\n",
       "      <td>0</td>\n",
       "      <td>0</td>\n",
       "      <td>0</td>\n",
       "      <td>Ac</td>\n",
       "    </tr>\n",
       "    <tr>\n",
       "      <th>2</th>\n",
       "      <td>0</td>\n",
       "      <td>0</td>\n",
       "      <td>1</td>\n",
       "      <td>0</td>\n",
       "      <td>0</td>\n",
       "      <td>0</td>\n",
       "      <td>0</td>\n",
       "      <td>0</td>\n",
       "      <td>0</td>\n",
       "      <td>0</td>\n",
       "      <td>...</td>\n",
       "      <td>0</td>\n",
       "      <td>0</td>\n",
       "      <td>0</td>\n",
       "      <td>0</td>\n",
       "      <td>0</td>\n",
       "      <td>0</td>\n",
       "      <td>0</td>\n",
       "      <td>0</td>\n",
       "      <td>0</td>\n",
       "      <td>Ag</td>\n",
       "    </tr>\n",
       "    <tr>\n",
       "      <th>3</th>\n",
       "      <td>0</td>\n",
       "      <td>0</td>\n",
       "      <td>0</td>\n",
       "      <td>1</td>\n",
       "      <td>0</td>\n",
       "      <td>0</td>\n",
       "      <td>0</td>\n",
       "      <td>0</td>\n",
       "      <td>0</td>\n",
       "      <td>0</td>\n",
       "      <td>...</td>\n",
       "      <td>0</td>\n",
       "      <td>0</td>\n",
       "      <td>0</td>\n",
       "      <td>0</td>\n",
       "      <td>0</td>\n",
       "      <td>0</td>\n",
       "      <td>0</td>\n",
       "      <td>0</td>\n",
       "      <td>0</td>\n",
       "      <td>At</td>\n",
       "    </tr>\n",
       "    <tr>\n",
       "      <th>4</th>\n",
       "      <td>0</td>\n",
       "      <td>0</td>\n",
       "      <td>0</td>\n",
       "      <td>0</td>\n",
       "      <td>0</td>\n",
       "      <td>0</td>\n",
       "      <td>0</td>\n",
       "      <td>0</td>\n",
       "      <td>0</td>\n",
       "      <td>0</td>\n",
       "      <td>...</td>\n",
       "      <td>0</td>\n",
       "      <td>0</td>\n",
       "      <td>0</td>\n",
       "      <td>0</td>\n",
       "      <td>0</td>\n",
       "      <td>0</td>\n",
       "      <td>0</td>\n",
       "      <td>0</td>\n",
       "      <td>0</td>\n",
       "      <td>Ra</td>\n",
       "    </tr>\n",
       "    <tr>\n",
       "      <th>...</th>\n",
       "      <td>...</td>\n",
       "      <td>...</td>\n",
       "      <td>...</td>\n",
       "      <td>...</td>\n",
       "      <td>...</td>\n",
       "      <td>...</td>\n",
       "      <td>...</td>\n",
       "      <td>...</td>\n",
       "      <td>...</td>\n",
       "      <td>...</td>\n",
       "      <td>...</td>\n",
       "      <td>...</td>\n",
       "      <td>...</td>\n",
       "      <td>...</td>\n",
       "      <td>...</td>\n",
       "      <td>...</td>\n",
       "      <td>...</td>\n",
       "      <td>...</td>\n",
       "      <td>...</td>\n",
       "      <td>...</td>\n",
       "      <td>...</td>\n",
       "    </tr>\n",
       "    <tr>\n",
       "      <th>75</th>\n",
       "      <td>0</td>\n",
       "      <td>0</td>\n",
       "      <td>0</td>\n",
       "      <td>0</td>\n",
       "      <td>0</td>\n",
       "      <td>0</td>\n",
       "      <td>0</td>\n",
       "      <td>0</td>\n",
       "      <td>0</td>\n",
       "      <td>0</td>\n",
       "      <td>...</td>\n",
       "      <td>0</td>\n",
       "      <td>0</td>\n",
       "      <td>0</td>\n",
       "      <td>0</td>\n",
       "      <td>0</td>\n",
       "      <td>0</td>\n",
       "      <td>0</td>\n",
       "      <td>0</td>\n",
       "      <td>1</td>\n",
       "      <td>Yt</td>\n",
       "    </tr>\n",
       "    <tr>\n",
       "      <th>76</th>\n",
       "      <td>0</td>\n",
       "      <td>0</td>\n",
       "      <td>0</td>\n",
       "      <td>0</td>\n",
       "      <td>0</td>\n",
       "      <td>0</td>\n",
       "      <td>0</td>\n",
       "      <td>0</td>\n",
       "      <td>0</td>\n",
       "      <td>0</td>\n",
       "      <td>...</td>\n",
       "      <td>0</td>\n",
       "      <td>0</td>\n",
       "      <td>0</td>\n",
       "      <td>0</td>\n",
       "      <td>0</td>\n",
       "      <td>0</td>\n",
       "      <td>0</td>\n",
       "      <td>0</td>\n",
       "      <td>0</td>\n",
       "      <td>Va</td>\n",
       "    </tr>\n",
       "    <tr>\n",
       "      <th>77</th>\n",
       "      <td>0</td>\n",
       "      <td>0</td>\n",
       "      <td>0</td>\n",
       "      <td>0</td>\n",
       "      <td>0</td>\n",
       "      <td>0</td>\n",
       "      <td>0</td>\n",
       "      <td>0</td>\n",
       "      <td>0</td>\n",
       "      <td>0</td>\n",
       "      <td>...</td>\n",
       "      <td>0</td>\n",
       "      <td>0</td>\n",
       "      <td>0</td>\n",
       "      <td>0</td>\n",
       "      <td>0</td>\n",
       "      <td>0</td>\n",
       "      <td>0</td>\n",
       "      <td>0</td>\n",
       "      <td>0</td>\n",
       "      <td>Vc</td>\n",
       "    </tr>\n",
       "    <tr>\n",
       "      <th>78</th>\n",
       "      <td>0</td>\n",
       "      <td>0</td>\n",
       "      <td>0</td>\n",
       "      <td>0</td>\n",
       "      <td>0</td>\n",
       "      <td>0</td>\n",
       "      <td>0</td>\n",
       "      <td>0</td>\n",
       "      <td>0</td>\n",
       "      <td>0</td>\n",
       "      <td>...</td>\n",
       "      <td>0</td>\n",
       "      <td>0</td>\n",
       "      <td>0</td>\n",
       "      <td>0</td>\n",
       "      <td>0</td>\n",
       "      <td>0</td>\n",
       "      <td>0</td>\n",
       "      <td>0</td>\n",
       "      <td>0</td>\n",
       "      <td>Vg</td>\n",
       "    </tr>\n",
       "    <tr>\n",
       "      <th>79</th>\n",
       "      <td>0</td>\n",
       "      <td>0</td>\n",
       "      <td>0</td>\n",
       "      <td>0</td>\n",
       "      <td>0</td>\n",
       "      <td>0</td>\n",
       "      <td>0</td>\n",
       "      <td>0</td>\n",
       "      <td>0</td>\n",
       "      <td>0</td>\n",
       "      <td>...</td>\n",
       "      <td>1</td>\n",
       "      <td>0</td>\n",
       "      <td>0</td>\n",
       "      <td>0</td>\n",
       "      <td>0</td>\n",
       "      <td>0</td>\n",
       "      <td>0</td>\n",
       "      <td>0</td>\n",
       "      <td>0</td>\n",
       "      <td>Vt</td>\n",
       "    </tr>\n",
       "  </tbody>\n",
       "</table>\n",
       "<p>80 rows × 81 columns</p>\n",
       "</div>"
      ],
      "text/plain": [
       "    Aa  Ac  Ag  At  Ca  Cc  Cg  Ct  Da  Dc  ...  Vt  Wa  Wc  Wg  Wt  Ya  Yc  \\\n",
       "0    1   0   0   0   0   0   0   0   0   0  ...   0   0   0   0   0   0   0   \n",
       "1    0   1   0   0   0   0   0   0   0   0  ...   0   0   0   0   0   0   0   \n",
       "2    0   0   1   0   0   0   0   0   0   0  ...   0   0   0   0   0   0   0   \n",
       "3    0   0   0   1   0   0   0   0   0   0  ...   0   0   0   0   0   0   0   \n",
       "4    0   0   0   0   0   0   0   0   0   0  ...   0   0   0   0   0   0   0   \n",
       "..  ..  ..  ..  ..  ..  ..  ..  ..  ..  ..  ...  ..  ..  ..  ..  ..  ..  ..   \n",
       "75   0   0   0   0   0   0   0   0   0   0  ...   0   0   0   0   0   0   0   \n",
       "76   0   0   0   0   0   0   0   0   0   0  ...   0   0   0   0   0   0   0   \n",
       "77   0   0   0   0   0   0   0   0   0   0  ...   0   0   0   0   0   0   0   \n",
       "78   0   0   0   0   0   0   0   0   0   0  ...   0   0   0   0   0   0   0   \n",
       "79   0   0   0   0   0   0   0   0   0   0  ...   1   0   0   0   0   0   0   \n",
       "\n",
       "    Yg  Yt  categories  \n",
       "0    0   0          Aa  \n",
       "1    0   0          Ac  \n",
       "2    0   0          Ag  \n",
       "3    0   0          At  \n",
       "4    0   0          Ra  \n",
       "..  ..  ..         ...  \n",
       "75   0   1          Yt  \n",
       "76   0   0          Va  \n",
       "77   0   0          Vc  \n",
       "78   0   0          Vg  \n",
       "79   0   0          Vt  \n",
       "\n",
       "[80 rows x 81 columns]"
      ]
     },
     "execution_count": 17,
     "metadata": {},
     "output_type": "execute_result"
    }
   ],
   "source": [
    "features = pd.get_dummies(categories, columns=['categories'])\n",
    "features['categories'] = categories\n",
    "features"
   ]
  },
  {
   "cell_type": "code",
   "execution_count": null,
   "id": "1cdc3846",
   "metadata": {},
   "outputs": [],
   "source": []
  },
  {
   "cell_type": "markdown",
   "id": "49a2b1b8",
   "metadata": {},
   "source": [
    "### MLP Classifier "
   ]
  },
  {
   "cell_type": "code",
   "execution_count": 18,
   "id": "7e2cfee9",
   "metadata": {},
   "outputs": [],
   "source": [
    "from sklearn.neural_network import MLPClassifier\n",
    "from sklearn.model_selection import GridSearchCV\n",
    "from sklearn.model_selection import StratifiedKFold\n",
    "from sklearn.metrics import accuracy_score"
   ]
  },
  {
   "cell_type": "code",
   "execution_count": 33,
   "id": "f5bc844e",
   "metadata": {},
   "outputs": [],
   "source": [
    "#x = features.drop('categories', axis=1)\n",
    "#y = features['categories']\n",
    "x = categories\n",
    "y = base"
   ]
  },
  {
   "cell_type": "code",
   "execution_count": 34,
   "id": "b903917b",
   "metadata": {},
   "outputs": [
    {
     "ename": "ValueError",
     "evalue": "Found input variables with inconsistent numbers of samples: [80, 4]",
     "output_type": "error",
     "traceback": [
      "\u001b[0;31m---------------------------------------------------------------------------\u001b[0m",
      "\u001b[0;31mValueError\u001b[0m                                Traceback (most recent call last)",
      "\u001b[0;32m<ipython-input-34-263750582922>\u001b[0m in \u001b[0;36m<module>\u001b[0;34m\u001b[0m\n\u001b[0;32m----> 1\u001b[0;31m \u001b[0mX_train\u001b[0m\u001b[0;34m,\u001b[0m \u001b[0mX_test\u001b[0m\u001b[0;34m,\u001b[0m \u001b[0my_train\u001b[0m\u001b[0;34m,\u001b[0m \u001b[0my_test\u001b[0m \u001b[0;34m=\u001b[0m \u001b[0mtrain_test_split\u001b[0m\u001b[0;34m(\u001b[0m\u001b[0mx\u001b[0m\u001b[0;34m,\u001b[0m \u001b[0my\u001b[0m\u001b[0;34m,\u001b[0m \u001b[0mtest_size\u001b[0m\u001b[0;34m=\u001b[0m\u001b[0;36m0.3\u001b[0m\u001b[0;34m)\u001b[0m\u001b[0;34m\u001b[0m\u001b[0;34m\u001b[0m\u001b[0m\n\u001b[0m",
      "\u001b[0;32m/opt/homebrew/lib/python3.9/site-packages/sklearn/model_selection/_split.py\u001b[0m in \u001b[0;36mtrain_test_split\u001b[0;34m(test_size, train_size, random_state, shuffle, stratify, *arrays)\u001b[0m\n\u001b[1;32m   2417\u001b[0m         \u001b[0;32mraise\u001b[0m \u001b[0mValueError\u001b[0m\u001b[0;34m(\u001b[0m\u001b[0;34m\"At least one array required as input\"\u001b[0m\u001b[0;34m)\u001b[0m\u001b[0;34m\u001b[0m\u001b[0;34m\u001b[0m\u001b[0m\n\u001b[1;32m   2418\u001b[0m \u001b[0;34m\u001b[0m\u001b[0m\n\u001b[0;32m-> 2419\u001b[0;31m     \u001b[0marrays\u001b[0m \u001b[0;34m=\u001b[0m \u001b[0mindexable\u001b[0m\u001b[0;34m(\u001b[0m\u001b[0;34m*\u001b[0m\u001b[0marrays\u001b[0m\u001b[0;34m)\u001b[0m\u001b[0;34m\u001b[0m\u001b[0;34m\u001b[0m\u001b[0m\n\u001b[0m\u001b[1;32m   2420\u001b[0m \u001b[0;34m\u001b[0m\u001b[0m\n\u001b[1;32m   2421\u001b[0m     \u001b[0mn_samples\u001b[0m \u001b[0;34m=\u001b[0m \u001b[0m_num_samples\u001b[0m\u001b[0;34m(\u001b[0m\u001b[0marrays\u001b[0m\u001b[0;34m[\u001b[0m\u001b[0;36m0\u001b[0m\u001b[0;34m]\u001b[0m\u001b[0;34m)\u001b[0m\u001b[0;34m\u001b[0m\u001b[0;34m\u001b[0m\u001b[0m\n",
      "\u001b[0;32m/opt/homebrew/lib/python3.9/site-packages/sklearn/utils/validation.py\u001b[0m in \u001b[0;36mindexable\u001b[0;34m(*iterables)\u001b[0m\n\u001b[1;32m    368\u001b[0m     \"\"\"\n\u001b[1;32m    369\u001b[0m     \u001b[0mresult\u001b[0m \u001b[0;34m=\u001b[0m \u001b[0;34m[\u001b[0m\u001b[0m_make_indexable\u001b[0m\u001b[0;34m(\u001b[0m\u001b[0mX\u001b[0m\u001b[0;34m)\u001b[0m \u001b[0;32mfor\u001b[0m \u001b[0mX\u001b[0m \u001b[0;32min\u001b[0m \u001b[0miterables\u001b[0m\u001b[0;34m]\u001b[0m\u001b[0;34m\u001b[0m\u001b[0;34m\u001b[0m\u001b[0m\n\u001b[0;32m--> 370\u001b[0;31m     \u001b[0mcheck_consistent_length\u001b[0m\u001b[0;34m(\u001b[0m\u001b[0;34m*\u001b[0m\u001b[0mresult\u001b[0m\u001b[0;34m)\u001b[0m\u001b[0;34m\u001b[0m\u001b[0;34m\u001b[0m\u001b[0m\n\u001b[0m\u001b[1;32m    371\u001b[0m     \u001b[0;32mreturn\u001b[0m \u001b[0mresult\u001b[0m\u001b[0;34m\u001b[0m\u001b[0;34m\u001b[0m\u001b[0m\n\u001b[1;32m    372\u001b[0m \u001b[0;34m\u001b[0m\u001b[0m\n",
      "\u001b[0;32m/opt/homebrew/lib/python3.9/site-packages/sklearn/utils/validation.py\u001b[0m in \u001b[0;36mcheck_consistent_length\u001b[0;34m(*arrays)\u001b[0m\n\u001b[1;32m    329\u001b[0m     \u001b[0muniques\u001b[0m \u001b[0;34m=\u001b[0m \u001b[0mnp\u001b[0m\u001b[0;34m.\u001b[0m\u001b[0munique\u001b[0m\u001b[0;34m(\u001b[0m\u001b[0mlengths\u001b[0m\u001b[0;34m)\u001b[0m\u001b[0;34m\u001b[0m\u001b[0;34m\u001b[0m\u001b[0m\n\u001b[1;32m    330\u001b[0m     \u001b[0;32mif\u001b[0m \u001b[0mlen\u001b[0m\u001b[0;34m(\u001b[0m\u001b[0muniques\u001b[0m\u001b[0;34m)\u001b[0m \u001b[0;34m>\u001b[0m \u001b[0;36m1\u001b[0m\u001b[0;34m:\u001b[0m\u001b[0;34m\u001b[0m\u001b[0;34m\u001b[0m\u001b[0m\n\u001b[0;32m--> 331\u001b[0;31m         raise ValueError(\n\u001b[0m\u001b[1;32m    332\u001b[0m             \u001b[0;34m\"Found input variables with inconsistent numbers of samples: %r\"\u001b[0m\u001b[0;34m\u001b[0m\u001b[0;34m\u001b[0m\u001b[0m\n\u001b[1;32m    333\u001b[0m             \u001b[0;34m%\u001b[0m \u001b[0;34m[\u001b[0m\u001b[0mint\u001b[0m\u001b[0;34m(\u001b[0m\u001b[0ml\u001b[0m\u001b[0;34m)\u001b[0m \u001b[0;32mfor\u001b[0m \u001b[0ml\u001b[0m \u001b[0;32min\u001b[0m \u001b[0mlengths\u001b[0m\u001b[0;34m]\u001b[0m\u001b[0;34m\u001b[0m\u001b[0;34m\u001b[0m\u001b[0m\n",
      "\u001b[0;31mValueError\u001b[0m: Found input variables with inconsistent numbers of samples: [80, 4]"
     ]
    }
   ],
   "source": [
    "X_train, X_test, y_train, y_test = train_test_split(x, y, test_size=0.3)"
   ]
  },
  {
   "cell_type": "code",
   "execution_count": 28,
   "id": "3b95250d",
   "metadata": {},
   "outputs": [],
   "source": [
    "mlp_clf = MLPClassifier(hidden_layer_sizes=(4,2),\n",
    "                        max_iter = 1000000,activation = 'relu',\n",
    "                        solver = 'lbfgs')"
   ]
  },
  {
   "cell_type": "code",
   "execution_count": 29,
   "id": "94755532",
   "metadata": {},
   "outputs": [
    {
     "data": {
      "text/plain": [
       "MLPClassifier(hidden_layer_sizes=(4, 2), max_iter=1000000, solver='lbfgs')"
      ]
     },
     "execution_count": 29,
     "metadata": {},
     "output_type": "execute_result"
    }
   ],
   "source": [
    "mlp_clf.fit(X_train, y_train)"
   ]
  },
  {
   "cell_type": "code",
   "execution_count": 30,
   "id": "7131b8fa",
   "metadata": {},
   "outputs": [],
   "source": [
    "y_pred = mlp_clf.predict(X_test)"
   ]
  },
  {
   "cell_type": "code",
   "execution_count": 31,
   "id": "170d3567",
   "metadata": {},
   "outputs": [
    {
     "name": "stdout",
     "output_type": "stream",
     "text": [
      "(24,)\n",
      "(24,)\n"
     ]
    },
    {
     "data": {
      "text/plain": [
       "0.0"
      ]
     },
     "execution_count": 31,
     "metadata": {},
     "output_type": "execute_result"
    }
   ],
   "source": [
    "print(y_test.shape)\n",
    "print(y_pred.shape)\n",
    "accuracy_score(y_test, y_pred)"
   ]
  },
  {
   "cell_type": "code",
   "execution_count": null,
   "id": "3cf4690c",
   "metadata": {},
   "outputs": [],
   "source": []
  }
 ],
 "metadata": {
  "kernelspec": {
   "display_name": "Python 3",
   "language": "python",
   "name": "python3"
  },
  "language_info": {
   "codemirror_mode": {
    "name": "ipython",
    "version": 3
   },
   "file_extension": ".py",
   "mimetype": "text/x-python",
   "name": "python",
   "nbconvert_exporter": "python",
   "pygments_lexer": "ipython3",
   "version": "3.9.10"
  }
 },
 "nbformat": 4,
 "nbformat_minor": 5
}
